{
 "cells": [
  {
   "cell_type": "code",
   "execution_count": 1,
   "metadata": {},
   "outputs": [],
   "source": [
    "import openpyxl as op"
   ]
  },
  {
   "cell_type": "code",
   "execution_count": 3,
   "metadata": {},
   "outputs": [
    {
     "name": "stdout",
     "output_type": "stream",
     "text": [
      "<openpyxl.workbook.workbook.Workbook object at 0x10fccbad0>\n"
     ]
    }
   ],
   "source": [
    "import openpyxl as op\n",
    "wb = op.Workbook()\n",
    "print(wb)"
   ]
  },
  {
   "cell_type": "code",
   "execution_count": 4,
   "metadata": {},
   "outputs": [],
   "source": [
    "wb.save(\"openpyxl_test.xlsx\")"
   ]
  },
  {
   "cell_type": "code",
   "execution_count": 7,
   "metadata": {},
   "outputs": [],
   "source": [
    "wb.save(r\"/Users/matthewlee/Desktop/Workspace/RPA_practice/3.3/openpyxl_test2.xlsx\")"
   ]
  },
  {
   "cell_type": "code",
   "execution_count": 10,
   "metadata": {},
   "outputs": [
    {
     "name": "stdout",
     "output_type": "stream",
     "text": [
      "<openpyxl.workbook.workbook.Workbook object at 0x116038590>\n"
     ]
    }
   ],
   "source": [
    "import openpyxl as op \n",
    "path = r\"/Users/matthewlee/Desktop/Workspace/RPA_practice/3.3/openpyxl_test.xlsx\"\n",
    "wb = op.load_workbook(path)\n",
    "print (wb)\n",
    "wb.close()"
   ]
  },
  {
   "cell_type": "code",
   "execution_count": 3,
   "metadata": {},
   "outputs": [
    {
     "name": "stdout",
     "output_type": "stream",
     "text": [
      "<Worksheet \"업무자동화\">\n"
     ]
    }
   ],
   "source": [
    "import openpyxl as op\n",
    "wb = op.Workbook() # Workbook 객체 생성하기\n",
    "ws = wb.create_sheet(\"업무자동화\")\n",
    "print(ws)\n",
    "wb.save(\"openpyxl_test.xlsx\")"
   ]
  },
  {
   "cell_type": "code",
   "execution_count": 6,
   "metadata": {},
   "outputs": [
    {
     "name": "stdout",
     "output_type": "stream",
     "text": [
      "<Worksheet \"무\">\n"
     ]
    }
   ],
   "source": [
    "import openpyxl as op \n",
    "\n",
    "# 엑셀 파일 path 설정하여 workbook 객체 생성하기\n",
    "path = r\"/Users/matthewlee/Desktop/Workspace/RPA_practice/3.3/openpyxl_test.xlsx\"\n",
    "wb = op.load_workbook(path)\n",
    "ws = wb.active # 현재 선택되어 있는 시트를 worksheet객체로 설정\n",
    "ws = wb[\"무\"] # \"무\" 라는 이름을 가진 sheet 선택\n",
    "print (ws)"
   ]
  },
  {
   "cell_type": "code",
   "execution_count": 8,
   "metadata": {},
   "outputs": [
    {
     "name": "stdout",
     "output_type": "stream",
     "text": [
      "['업', '무', '자', '동', '화']\n"
     ]
    }
   ],
   "source": [
    "import openpyxl as op\n",
    "\n",
    "path = r\"/Users/matthewlee/Desktop/Workspace/RPA_practice/3.3/openpyxl_test.xlsx\"\n",
    "wb = op.load_workbook(path) #엑셀 파일 path 설정하여 workbook 객체 생성\n",
    "ws_list = wb.sheetnames #wb 의 시트를 리스트 화\n",
    "print (ws_list)\n",
    "wb.close()"
   ]
  },
  {
   "cell_type": "code",
   "execution_count": 9,
   "metadata": {},
   "outputs": [
    {
     "name": "stdout",
     "output_type": "stream",
     "text": [
      "<Worksheet \"업\">\n",
      "<Worksheet \"무\">\n",
      "<Worksheet \"자\">\n",
      "<Worksheet \"동\">\n",
      "<Worksheet \"화\">\n"
     ]
    }
   ],
   "source": [
    "import openpyxl as op\n",
    "\n",
    "path = r\"/Users/matthewlee/Desktop/Workspace/RPA_practice/3.3/openpyxl_test.xlsx\"\n",
    "wb = op.load_workbook(path) #엑셀 파일 path 설정하여 workbook 객체 생성\n",
    "ws_list = wb.sheetnames #wb 의 시트를 리스트 화\n",
    "for sht in ws_list:\n",
    "    ws = wb[sht]\n",
    "    print(ws)\n",
    "wb.close()"
   ]
  },
  {
   "cell_type": "code",
   "execution_count": 14,
   "metadata": {},
   "outputs": [
    {
     "name": "stdout",
     "output_type": "stream",
     "text": [
      "cell(1,2) :  2\n",
      "Range(\"B1\"):  2\n"
     ]
    }
   ],
   "source": [
    "import openpyxl as op \n",
    "\n",
    "path = r\"/Users/matthewlee/Desktop/Workspace/RPA_practice/3.3/openpyxl_test.xlsx\"\n",
    "wb = op.load_workbook(path)  # 엑셀 파일 path 설정하여 workbook 객체 생성하기\n",
    "ws = wb.active # 현재 선택되어 있는 시트를 worksheet객체로 설정\n",
    "\n",
    "# 방법 1 : sheet 의 Cell 속성 사용하기\n",
    "data1 = ws.cell(row = 1, column = 2).value\n",
    "\n",
    "# 방법 2 : 엑셀 인덱스 (Range) 사용하기\n",
    "data2 = ws[\"B1\"].value \n",
    "\n",
    "\n",
    "print(\"cell(1,2) : \", data1)\n",
    "print('Range(\"B1\"): ', data2)"
   ]
  },
  {
   "cell_type": "code",
   "execution_count": 15,
   "metadata": {},
   "outputs": [
    {
     "name": "stdout",
     "output_type": "stream",
     "text": [
      "Range(a1:b1) :  ((<Cell '업'.A1>, <Cell '업'.B1>),)\n"
     ]
    }
   ],
   "source": [
    "rng = ws[\"A1:B1\"]\n",
    "print(\"Range(a1:b1) : \", rng)"
   ]
  },
  {
   "cell_type": "code",
   "execution_count": 16,
   "metadata": {},
   "outputs": [
    {
     "name": "stdout",
     "output_type": "stream",
     "text": [
      "((<Cell '업'.A1>, <Cell '업'.B1>, <Cell '업'.C1>), (<Cell '업'.A2>, <Cell '업'.B2>, <Cell '업'.C2>), (<Cell '업'.A3>, <Cell '업'.B3>, <Cell '업'.C3>))\n"
     ]
    }
   ],
   "source": [
    "rng = ws[\"A1:C3\"]\n",
    "print(rng)"
   ]
  },
  {
   "cell_type": "code",
   "execution_count": 17,
   "metadata": {},
   "outputs": [
    {
     "name": "stdout",
     "output_type": "stream",
     "text": [
      "1\n",
      "2\n",
      "3\n",
      "4\n",
      "5\n",
      "6\n",
      "7\n",
      "8\n",
      "9\n"
     ]
    }
   ],
   "source": [
    "rng = ws[\"A1:C3\"]\n",
    "for rng_data in rng:\n",
    "    for cell_data in rng_data:\n",
    "        print(cell_data.value)"
   ]
  },
  {
   "cell_type": "code",
   "execution_count": null,
   "metadata": {},
   "outputs": [],
   "source": []
  }
 ],
 "metadata": {
  "kernelspec": {
   "display_name": "rpa_practice",
   "language": "python",
   "name": "python3"
  },
  "language_info": {
   "codemirror_mode": {
    "name": "ipython",
    "version": 3
   },
   "file_extension": ".py",
   "mimetype": "text/x-python",
   "name": "python",
   "nbconvert_exporter": "python",
   "pygments_lexer": "ipython3",
   "version": "3.12.2"
  }
 },
 "nbformat": 4,
 "nbformat_minor": 2
}
