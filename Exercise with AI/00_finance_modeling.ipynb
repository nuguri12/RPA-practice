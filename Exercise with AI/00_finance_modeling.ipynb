{
 "cells": [
  {
   "cell_type": "code",
   "execution_count": 7,
   "metadata": {},
   "outputs": [
    {
     "ename": "ModuleNotFoundError",
     "evalue": "No module named 'pykrx'",
     "output_type": "error",
     "traceback": [
      "\u001b[0;31m---------------------------------------------------------------------------\u001b[0m",
      "\u001b[0;31mModuleNotFoundError\u001b[0m                       Traceback (most recent call last)",
      "Cell \u001b[0;32mIn[7], line 1\u001b[0m\n\u001b[0;32m----> 1\u001b[0m \u001b[38;5;28;01mfrom\u001b[39;00m \u001b[38;5;21;01mpykrx\u001b[39;00m \u001b[38;5;28;01mimport\u001b[39;00m stock\n\u001b[1;32m      2\u001b[0m \u001b[38;5;28;01mimport\u001b[39;00m \u001b[38;5;21;01mpandas\u001b[39;00m \u001b[38;5;28;01mas\u001b[39;00m \u001b[38;5;21;01mpd\u001b[39;00m\n\u001b[1;32m      3\u001b[0m \u001b[38;5;28;01mimport\u001b[39;00m \u001b[38;5;21;01mnumpy\u001b[39;00m \u001b[38;5;28;01mas\u001b[39;00m \u001b[38;5;21;01mnp\u001b[39;00m\n",
      "\u001b[0;31mModuleNotFoundError\u001b[0m: No module named 'pykrx'"
     ]
    }
   ],
   "source": [
    "from pykrx import stock\n",
    "import pandas as pd\n",
    "import numpy as np\n",
    "import matplotlib.pyplot as plt\n",
    "from scipy.optimize import minimize\n",
    "\n",
    "# Define the period for the simulation\n",
    "start_date = '20230401'\n",
    "end_date = '20240401'\n",
    "\n",
    "# Fetch the KOSPI top 40 stocks by market cap (example tickers for simulation)\n",
    "tickers = stock.get_market_ticker_list(date=end_date, market=\"KOSPI\")[:40]\n",
    "\n",
    "# Download stock data\n",
    "dfs = []\n",
    "for ticker in tickers:\n",
    "    df = stock.get_market_ohlcv_by_date(start_date, end_date, ticker)\n",
    "    df['Ticker'] = ticker\n",
    "    dfs.append(df)\n",
    "\n",
    "data = pd.concat(dfs)\n",
    "data = data.reset_index().pivot('index', 'Ticker', '종가')\n",
    "\n",
    "# Calculate daily returns\n",
    "returns = data.pct_change().dropna()\n",
    "\n",
    "# Calculate mean returns and covariance matrix\n",
    "mean_returns = returns.mean()\n",
    "cov_matrix = returns.cov()\n",
    "\n",
    "# Number of portfolios to simulate\n",
    "num_portfolios = 50000\n",
    "\n",
    "# Set up array to hold results\n",
    "results = np.zeros((4, num_portfolios))\n",
    "\n",
    "# Function to calculate portfolio performance\n",
    "def portfolio_performance(weights, mean_returns, cov_matrix):\n",
    "    returns = np.sum(mean_returns * weights) * 252\n",
    "    std = np.sqrt(np.dot(weights.T, np.dot(cov_matrix, weights))) * np.sqrt(252)\n",
    "    return std, returns\n",
    "\n",
    "# Function to minimize (negative Sharpe ratio)\n",
    "def neg_sharpe_ratio(weights, mean_returns, cov_matrix, risk_free_rate=0.01):\n",
    "    std, returns = portfolio_performance(weights, mean_returns, cov_matrix)\n",
    "    return - (returns - risk_free_rate) / std\n",
    "\n",
    "# Constraints\n",
    "constraints = ({'type': 'eq', 'fun': lambda x: np.sum(x) - 1})\n",
    "bounds = tuple((0, 1) for _ in range(len(tickers)))\n",
    "\n",
    "# Random portfolio generation\n",
    "for i in range(num_portfolios):\n",
    "    weights = np.random.random(len(tickers))\n",
    "    weights /= np.sum(weights)\n",
    "    std, ret = portfolio_performance(weights, mean_returns, cov_matrix)\n",
    "    sharpe_ratio = (ret - 0.01) / std\n",
    "    results[0,i] = ret\n",
    "    results[1,i] = std\n",
    "    results[2,i] = sharpe_ratio\n",
    "    results[3,i] = np.sum(weights)\n",
    "\n",
    "# Optimal portfolio\n",
    "opt_sharpe = minimize(neg_sharpe_ratio, len(tickers)*[1./len(tickers)], args=(mean_returns, cov_matrix),\n",
    "                      method='SLSQP', bounds=bounds, constraints=constraints)\n",
    "\n",
    "# Efficient frontier\n",
    "def portfolio_volatility(weights, mean_returns, cov_matrix):\n",
    "    return portfolio_performance(weights, mean_returns, cov_matrix)[0]\n",
    "\n",
    "frontier_y = np.linspace(0, 0.3, 100)\n",
    "frontier_x = []\n",
    "\n",
    "for ret in frontier_y:\n",
    "    constraints = (\n",
    "        {'type': 'eq', 'fun': lambda x: np.sum(x) - 1},\n",
    "        {'type': 'eq', 'fun': lambda x: portfolio_performance(x, mean_returns, cov_matrix)[1] - ret}\n",
    "    )\n",
    "    result = minimize(portfolio_volatility, len(tickers)*[1./len(tickers)], args=(mean_returns, cov_matrix),\n",
    "                      method='SLSQP', bounds=bounds, constraints=constraints)\n",
    "    frontier_x.append(result['fun'])\n",
    "\n",
    "# Plot results\n",
    "plt.figure(figsize=(10, 7))\n",
    "plt.scatter(results[1,:], results[0,:], c=results[2,:], cmap='YlGnBu', marker='o')\n",
    "plt.scatter(portfolio_performance(opt_sharpe['x'], mean_returns, cov_matrix)[0],\n",
    "            portfolio_performance(opt_sharpe['x'], mean_returns, cov_matrix)[1], marker='*', color='r', s=500)\n",
    "plt.plot(frontier_x, frontier_y, linestyle='--', color='black', marker='.')\n",
    "plt.title('Efficient Frontier')\n",
    "plt.xlabel('Volatility')\n",
    "plt.ylabel('Return')\n",
    "plt.colorbar(label='Sharpe Ratio')\n",
    "plt.show()\n"
   ]
  },
  {
   "cell_type": "code",
   "execution_count": 1,
   "metadata": {},
   "outputs": [
    {
     "ename": "ModuleNotFoundError",
     "evalue": "No module named 'pykrx'",
     "output_type": "error",
     "traceback": [
      "\u001b[0;31m---------------------------------------------------------------------------\u001b[0m",
      "\u001b[0;31mModuleNotFoundError\u001b[0m                       Traceback (most recent call last)",
      "Cell \u001b[0;32mIn[1], line 1\u001b[0m\n\u001b[0;32m----> 1\u001b[0m \u001b[38;5;28;01mfrom\u001b[39;00m \u001b[38;5;21;01mpykrx\u001b[39;00m \u001b[38;5;28;01mimport\u001b[39;00m stock\n\u001b[1;32m      3\u001b[0m \u001b[38;5;66;03m# Example: Get a list of KOSPI tickers\u001b[39;00m\n\u001b[1;32m      4\u001b[0m tickers \u001b[38;5;241m=\u001b[39m stock\u001b[38;5;241m.\u001b[39mget_market_ticker_list(market\u001b[38;5;241m=\u001b[39m\u001b[38;5;124m\"\u001b[39m\u001b[38;5;124mKOSPI\u001b[39m\u001b[38;5;124m\"\u001b[39m)\n",
      "\u001b[0;31mModuleNotFoundError\u001b[0m: No module named 'pykrx'"
     ]
    }
   ],
   "source": [
    "from pykrx import stock\n",
    "\n",
    "# Example: Get a list of KOSPI tickers\n",
    "tickers = stock.get_market_ticker_list(market=\"KOSPI\")\n",
    "print(tickers)"
   ]
  }
 ],
 "metadata": {
  "kernelspec": {
   "display_name": "Python 3",
   "language": "python",
   "name": "python3"
  },
  "language_info": {
   "codemirror_mode": {
    "name": "ipython",
    "version": 3
   },
   "file_extension": ".py",
   "mimetype": "text/x-python",
   "name": "python",
   "nbconvert_exporter": "python",
   "pygments_lexer": "ipython3",
   "version": "3.11.10"
  }
 },
 "nbformat": 4,
 "nbformat_minor": 2
}
