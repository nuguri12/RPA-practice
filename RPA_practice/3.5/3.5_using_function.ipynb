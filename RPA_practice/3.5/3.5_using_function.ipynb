{
 "cells": [
  {
   "cell_type": "code",
   "execution_count": 6,
   "metadata": {},
   "outputs": [
    {
     "data": {
      "text/plain": [
       "<bound method Workbook.close of <openpyxl.workbook.workbook.Workbook object at 0x10a9d97f0>>"
      ]
     },
     "execution_count": 6,
     "metadata": {},
     "output_type": "execute_result"
    }
   ],
   "source": [
    "import openpyxl as op\n",
    "path = r\"/Users/matthewlee/Desktop/Workspace/RPA_practice/3.5/openpyxl_test.xlsx\"\n",
    "\n",
    "# 엑셀 파일 경로 설정하여, workbook 객체 생성하기\n",
    "wb = op.load_workbook(path)\n",
    "\n",
    "# 활성화 되어 있는 시트 선택\n",
    "ws = wb.active\n",
    "\n",
    "# 엑셀 함수를 실제 Cell 에 입력\n",
    "ws[\"E11\"] = \"=sum(C:C)\"\n",
    "\n",
    "# Saving the result\n",
    "wb.save(\"result.xlsx\")\n",
    "\n",
    "# Closing workbook object\n",
    "wb.close\n"
   ]
  },
  {
   "cell_type": "code",
   "execution_count": 7,
   "metadata": {},
   "outputs": [
    {
     "name": "stdout",
     "output_type": "stream",
     "text": [
      "최대 행 값 : 11\n",
      "최대 열 값 : 5\n"
     ]
    }
   ],
   "source": [
    "import openpyxl as op \n",
    "path = r\"/Users/matthewlee/Desktop/Workspace/RPA_practice/3.5/openpyxl_test3-24.xlsx\"\n",
    "\n",
    "wb = op.load_workbook(path)\n",
    "\n",
    "ws = wb.active\n",
    "\n",
    "col_max = ws.max_column\n",
    "row_max = ws.max_row\n",
    "\n",
    "print(\"최대 행 값 :\", row_max)\n",
    "print(\"최대 열 값 :\", col_max)\n"
   ]
  },
  {
   "cell_type": "code",
   "execution_count": 8,
   "metadata": {},
   "outputs": [],
   "source": [
    "import openpyxl as op \n",
    "\n",
    "path = r\"/Users/matthewlee/Desktop/Workspace/RPA_practice/3.5/openpyxl_test3-24.xlsx\"\n",
    "\n",
    "wb = op.load_workbook(path)\n",
    "\n",
    "ws = wb.active\n",
    "\n",
    "# row_max 에 최대 행 값 저장 - for loop 의 길이\n",
    "row_max = ws.max_row\n",
    "\n",
    "# for loop 이용하여, 2행 - 최대행 까지 반복문 작성\n",
    "# range (a, b+1) : a부터 b 까지 반복하는 range 구문\n",
    "\n",
    "for row in range (2, row_max + 1):\n",
    "    ws[\"E\" + str(row)] = \"=C\" + str(row) + \"*\" + \"D\" + str(row)\n",
    "\n",
    "wb.save(\"result3-24.xlsx\")\n",
    "wb.close()\n"
   ]
  },
  {
   "cell_type": "markdown",
   "metadata": {},
   "source": [
    "## 각 계산될 대상을 튜플로 입력받아 파이썬에서 계산하여 값을 출력하는 법"
   ]
  },
  {
   "cell_type": "code",
   "execution_count": 10,
   "metadata": {},
   "outputs": [],
   "source": [
    "import openpyxl as op \n",
    "\n",
    "path = r\"/Users/matthewlee/Desktop/Workspace/RPA_practice/3.5/openpyxl_test3-24-tuple.xlsx\"\n",
    "\n",
    "wb = op.load_workbook(path)\n",
    "\n",
    "ws = wb.active\n",
    "\n",
    "# row_max 에 최대 행 값 저장 - for loop 의 길이\n",
    "row_max = ws.max_row\n",
    "\n",
    "# for loop 이용하여, 2행 - 최대행 까지 반복문 작성\n",
    "# range (a, b+1) : a부터 b 까지 반복하는 range 구문\n",
    "\n",
    "for row in range (2, row_max + 1):\n",
    "    # 계산될 대상을 튜플로 입력받아 파이썬에서 계산, 엑셀 시트 상 함수 적용 X\n",
    "    ws[\"E\" + str(row)] = ws[\"C\" + str(row)].value * ws[\"D\" + str(row)].value\n",
    "\n",
    "wb.save(\"result3-24-tuple.xlsx\")\n",
    "wb.close()"
   ]
  },
  {
   "cell_type": "code",
   "execution_count": null,
   "metadata": {},
   "outputs": [],
   "source": []
  }
 ],
 "metadata": {
  "kernelspec": {
   "display_name": "rpa_practice",
   "language": "python",
   "name": "python3"
  },
  "language_info": {
   "codemirror_mode": {
    "name": "ipython",
    "version": 3
   },
   "file_extension": ".py",
   "mimetype": "text/x-python",
   "name": "python",
   "nbconvert_exporter": "python",
   "pygments_lexer": "ipython3",
   "version": "3.1.undefined"
  }
 },
 "nbformat": 4,
 "nbformat_minor": 2
}
