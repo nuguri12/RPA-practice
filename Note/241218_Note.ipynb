{
 "cells": [
  {
   "cell_type": "code",
   "execution_count": 4,
   "metadata": {},
   "outputs": [
    {
     "ename": "ModuleNotFoundError",
     "evalue": "No module named 'matplotlib'",
     "output_type": "error",
     "traceback": [
      "\u001b[0;31m---------------------------------------------------------------------------\u001b[0m",
      "\u001b[0;31mModuleNotFoundError\u001b[0m                       Traceback (most recent call last)",
      "Cell \u001b[0;32mIn[4], line 1\u001b[0m\n\u001b[0;32m----> 1\u001b[0m \u001b[38;5;28;01mimport\u001b[39;00m \u001b[38;5;21;01mmatplotlib\u001b[39;00m\u001b[38;5;21;01m.\u001b[39;00m\u001b[38;5;21;01mpyplot\u001b[39;00m \u001b[38;5;28;01mas\u001b[39;00m \u001b[38;5;21;01mplt\u001b[39;00m\n\u001b[1;32m      2\u001b[0m \u001b[38;5;28;01mimport\u001b[39;00m \u001b[38;5;21;01mnetworkx\u001b[39;00m \u001b[38;5;28;01mas\u001b[39;00m \u001b[38;5;21;01mnx\u001b[39;00m\n\u001b[1;32m      4\u001b[0m \u001b[38;5;66;03m# Define the workflow steps and their relationships\u001b[39;00m\n",
      "\u001b[0;31mModuleNotFoundError\u001b[0m: No module named 'matplotlib'"
     ]
    }
   ],
   "source": [
    "import matplotlib.pyplot as plt\n",
    "import networkx as nx\n",
    "\n",
    "# Define the workflow steps and their relationships\n",
    "steps = [\n",
    "    \"Input C++ Code or SECS/GEM Logic\",\n",
    "    \"GPT Processes the Input\",\n",
    "    \"Generate Draft Documentation\",\n",
    "    \"Human Review and Edit\",\n",
    "    \"Finalize and Use Documentation\"\n",
    "]\n",
    "\n",
    "# Create a directed graph for the workflow\n",
    "workflow_graph = nx.DiGraph()\n",
    "\n",
    "# Add nodes and edges to represent the workflow\n",
    "workflow_graph.add_edges_from([\n",
    "    (steps[0], steps[1]),\n",
    "    (steps[1], steps[2]),\n",
    "    (steps[2], steps[3]),\n",
    "    (steps[3], steps[4])\n",
    "])\n",
    "\n",
    "# Define positions for a layered workflow layout\n",
    "positions = {\n",
    "    steps[0]: (0, 4),\n",
    "    steps[1]: (1, 3),\n",
    "    steps[2]: (2, 2),\n",
    "    steps[3]: (3, 1),\n",
    "    steps[4]: (4, 0)\n",
    "}\n",
    "\n",
    "# Plot the workflow graph\n",
    "plt.figure(figsize=(10, 6))\n",
    "nx.draw(\n",
    "    workflow_graph,\n",
    "    pos=positions,\n",
    "    with_labels=True,\n",
    "    node_size=3000,\n",
    "    node_color=\"lightblue\",\n",
    "    font_size=10,\n",
    "    font_weight=\"bold\",\n",
    "    arrowsize=20,\n",
    "    edge_color=\"gray\"\n",
    ")\n",
    "\n",
    "plt.title(\"Workflow for GPT-Aided Documentation Automation\", fontsize=14)\n",
    "plt.show()\n"
   ]
  }
 ],
 "metadata": {
  "kernelspec": {
   "display_name": "rpa_practice",
   "language": "python",
   "name": "python3"
  },
  "language_info": {
   "codemirror_mode": {
    "name": "ipython",
    "version": 3
   },
   "file_extension": ".py",
   "mimetype": "text/x-python",
   "name": "python",
   "nbconvert_exporter": "python",
   "pygments_lexer": "ipython3",
   "version": "3.12.2"
  }
 },
 "nbformat": 4,
 "nbformat_minor": 2
}
